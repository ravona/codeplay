{
 "cells": [
  {
   "cell_type": "code",
   "execution_count": 7,
   "id": "seventh-thunder",
   "metadata": {},
   "outputs": [
    {
     "name": "stdout",
     "output_type": "stream",
     "text": [
      "['banana', 'apple', 'orange', 'pineapple', 'peach']\n"
     ]
    }
   ],
   "source": [
    "fruits = ['banana', 'apple', 'orange', 'pineapple', 'peach']\n",
    "print(fruits)"
   ]
  },
  {
   "cell_type": "code",
   "execution_count": 54,
   "id": "young-disposition",
   "metadata": {},
   "outputs": [
    {
     "name": "stdout",
     "output_type": "stream",
     "text": [
      "Which fruit would like to buy today?banana\n",
      "banana is in stock!\n"
     ]
    }
   ],
   "source": [
    "chosen_fruit = input(\"Which fruit would like to buy today?\")\n",
    "if chosen_fruit in fruits:\n",
    "    print(f\"{chosen_fruit} is in stock!\")\n",
    "else:\n",
    "    print(f\"We ran out of {chosen_fruit}\")"
   ]
  },
  {
   "cell_type": "code",
   "execution_count": 15,
   "id": "impressive-thickness",
   "metadata": {},
   "outputs": [
    {
     "name": "stdout",
     "output_type": "stream",
     "text": [
      "['banana', 'apple', 'kiwi', 'kiwi', 'kiwi', 'orange', 'pineapple', 'peach']\n"
     ]
    }
   ],
   "source": [
    "fruits.insert(int(len(fruits) / 2), 'kiwi')\n",
    "set(fruits)"
   ]
  },
  {
   "cell_type": "code",
   "execution_count": 23,
   "id": "protective-alignment",
   "metadata": {},
   "outputs": [
    {
     "name": "stdout",
     "output_type": "stream",
     "text": [
      "{'kiwi', 'banana', 'orange', 'apple', 'pineapple', 'peach'}\n"
     ]
    }
   ],
   "source": [
    "no_duplicate_fruits = set(fruits)\n",
    "print(no_duplicate_fruits)"
   ]
  },
  {
   "cell_type": "code",
   "execution_count": 24,
   "id": "cognitive-cabinet",
   "metadata": {},
   "outputs": [
    {
     "name": "stdout",
     "output_type": "stream",
     "text": [
      "Please enter your name: Asaf\n",
      "\n",
      "Hello, Asaf!\n"
     ]
    }
   ],
   "source": [
    "name = input(\"Please enter your name: \")\n",
    "print(f\"\\nHello, {name}!\")"
   ]
  },
  {
   "cell_type": "code",
   "execution_count": 26,
   "id": "completed-rescue",
   "metadata": {},
   "outputs": [
    {
     "name": "stdout",
     "output_type": "stream",
     "text": [
      "If you tell us who you are, we can personalize the messages you see.\n",
      "What is your first name? sdfds\n",
      "\n",
      "Hello, sdfds!\n"
     ]
    }
   ],
   "source": [
    "prompt = \"If you tell us who you are, we can personalize the messages you see.\"\n",
    "prompt += \"\\nWhat is your first name? \"\n",
    "name = input(prompt)\n",
    "print(f\"\\nHello, {name}!\")"
   ]
  },
  {
   "cell_type": "code",
   "execution_count": null,
   "id": "understanding-kingston",
   "metadata": {},
   "outputs": [],
   "source": [
    "number = input(\"Enter a number to find out if it's even or odd\")\n",
    "number = int(number)\n",
    "\n",
    "if number % 2 == 0:\n",
    "    print(f\"\\nThe number {number} is even\")\n",
    "else:\n",
    "    print(f\"\\nThe number {number} is odd\")"
   ]
  },
  {
   "cell_type": "code",
   "execution_count": 3,
   "id": "subtle-cigarette",
   "metadata": {},
   "outputs": [
    {
     "name": "stdout",
     "output_type": "stream",
     "text": [
      "1\n",
      "3\n",
      "5\n",
      "7\n",
      "9\n"
     ]
    }
   ],
   "source": [
    "# print odd numbers only\n",
    "current_number = 0\n",
    "while current_number < 10:\n",
    "    current_number += 1\n",
    "    if current_number % 2 == 0:\n",
    "        continue\n",
    "    print(current_number)"
   ]
  },
  {
   "cell_type": "code",
   "execution_count": 9,
   "id": "aging-insured",
   "metadata": {},
   "outputs": [
    {
     "name": "stdout",
     "output_type": "stream",
     "text": [
      "Which topping would you like on your Pizza? \n",
      "Type 'quit' to finish tomatoes\n",
      "Which topping would you like on your Pizza? \n",
      "Type 'quit' to finish onions\n",
      "Which topping would you like on your Pizza? \n",
      "Type 'quit' to finish olives\n",
      "Which topping would you like on your Pizza? \n",
      "Type 'quit' to finish quit\n",
      "['tomatoes', 'onions', 'olives']\n"
     ]
    }
   ],
   "source": [
    "pizza_toppings = []\n",
    "pizza_topping = input(f\"Which topping would you like on your Pizza? \\nType 'quit' to finish \")\n",
    "while pizza_topping != 'quit':\n",
    "    pizza_toppings.append(pizza_topping)\n",
    "    pizza_topping = input(f\"Which topping would you like on your Pizza? \\nType 'quit' to finish \")\n",
    "print(pizza_toppings)"
   ]
  },
  {
   "cell_type": "code",
   "execution_count": 15,
   "id": "saved-villa",
   "metadata": {},
   "outputs": [
    {
     "data": {
      "text/plain": [
       "False"
      ]
     },
     "execution_count": 15,
     "metadata": {},
     "output_type": "execute_result"
    }
   ],
   "source": [
    "[1, 7, 2, 3, 5] < [1, 2, 4]"
   ]
  },
  {
   "cell_type": "code",
   "execution_count": null,
   "id": "endangered-medium",
   "metadata": {},
   "outputs": [],
   "source": []
  }
 ],
 "metadata": {
  "kernelspec": {
   "display_name": "Python 3",
   "language": "python",
   "name": "python3"
  },
  "language_info": {
   "codemirror_mode": {
    "name": "ipython",
    "version": 3
   },
   "file_extension": ".py",
   "mimetype": "text/x-python",
   "name": "python",
   "nbconvert_exporter": "python",
   "pygments_lexer": "ipython3",
   "version": "3.9.2"
  }
 },
 "nbformat": 4,
 "nbformat_minor": 5
}
